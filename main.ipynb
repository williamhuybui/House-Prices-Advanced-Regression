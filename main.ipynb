{
 "cells": [
  {
   "cell_type": "code",
   "execution_count": 1483,
   "metadata": {},
   "outputs": [],
   "source": [
    "import pandas as pd\n",
    "import numpy as np\n",
    "import matplotlib.pyplot as plt\n",
    "\n",
    "import time\n",
    "import vtreat\n",
    "\n",
    "import xgboost as xgb\n",
    "from sklearn.model_selection import train_test_split, cross_val_score, GridSearchCV, KFold\n",
    "from sklearn.decomposition import PCA\n",
    "from sklearn.preprocessing import RobustScaler\n",
    "from sklearn.linear_model import ElasticNetCV, LassoCV, RidgeCV\n",
    "import seaborn as sns\n",
    "#Metric\n",
    "from sklearn.metrics import r2_score\n",
    "\n",
    "#Stat\n",
    "from scipy.stats import skew, kurtosis\n",
    "from scipy.stats import boxcox_normmax\n",
    "from scipy.special import boxcox1p\n",
    "import statsmodels.api as sm\n",
    "\n",
    "from sklearn.preprocessing import MinMaxScaler\n",
    "#Warning Disable\n",
    "import warnings\n",
    "warnings.filterwarnings(\"ignore\")"
   ]
  },
  {
   "cell_type": "code",
   "execution_count": 666,
   "metadata": {},
   "outputs": [
    {
     "name": "stdout",
     "output_type": "stream",
     "text": [
      "\u001b[31mdata_description.txt\u001b[m\u001b[m  \u001b[31msample_submission.csv\u001b[m\u001b[m \u001b[31mtrain.csv\u001b[m\u001b[m\r\n",
      "main.ipynb            \u001b[31mtest.csv\u001b[m\u001b[m\r\n"
     ]
    }
   ],
   "source": [
    "!ls"
   ]
  },
  {
   "cell_type": "code",
   "execution_count": 1496,
   "metadata": {},
   "outputs": [],
   "source": [
    "#Custome RSME scoring function \n",
    "def log_rmse_cv(estimator, x, y):\n",
    "    yPred = estimator.predict(x)\n",
    "    log_y = np.log(y)\n",
    "    log_yPred = np.log(yPred)\n",
    "    score=np.sqrt(np.sum(np.square(log_y-log_yPred))/len(y))\n",
    "    return score"
   ]
  },
  {
   "cell_type": "code",
   "execution_count": 1151,
   "metadata": {},
   "outputs": [],
   "source": [
    "#Custome RSME scoring function with np.expm1\n",
    "def exp_log_rmse_cv(estimator, x, y):\n",
    "    yPred = estimator.predict(x)\n",
    "    yPred=np.expm1(yPred)\n",
    "    log_y = np.log(y)\n",
    "    log_yPred = np.log(yPred)\n",
    "    score=np.sqrt(np.sum(np.square(log_y-log_yPred))/len(y))\n",
    "    return score"
   ]
  },
  {
   "cell_type": "code",
   "execution_count": 1204,
   "metadata": {},
   "outputs": [
    {
     "data": {
      "text/plain": [
       "2.0000000000000004"
      ]
     },
     "execution_count": 1204,
     "metadata": {},
     "output_type": "execute_result"
    }
   ],
   "source": [
    "np.expm1(np.log1p(2))"
   ]
  },
  {
   "cell_type": "code",
   "execution_count": 668,
   "metadata": {},
   "outputs": [],
   "source": [
    "#CV always return the max score, but we want the min score\n",
    "def get_min_score_param(mod_search):\n",
    "    min_index=mod_search.cv_results_['mean_test_score'].argmin()\n",
    "    min_score=mod_search.cv_results_['mean_test_score'][min_index]\n",
    "    print(\"The min score is:\",min_score )\n",
    "    return gs_xgb.cv_results_['params'][min_index]"
   ]
  },
  {
   "cell_type": "code",
   "execution_count": 752,
   "metadata": {},
   "outputs": [],
   "source": [
    "def cat_object(df):\n",
    "    cat_obj=[]\n",
    "    for i in df.columns:\n",
    "        if df[i].dtype=='O':\n",
    "            cat_obj.append(i)\n",
    "    return cat_obj"
   ]
  },
  {
   "cell_type": "code",
   "execution_count": 835,
   "metadata": {},
   "outputs": [],
   "source": [
    "def feature_analysis(df,col):\n",
    "    return df.groupby(col).agg([\"mean\",\"count\",\"median\"]).SalePrice"
   ]
  },
  {
   "cell_type": "code",
   "execution_count": 818,
   "metadata": {},
   "outputs": [],
   "source": [
    "def nan_(df):\n",
    "    fool=df.isna().sum()\n",
    "    count=0\n",
    "    for i in df.columns:\n",
    "        if fool[i]>0:\n",
    "            print(i,fool[i])\n",
    "            count+=1\n",
    "    print(count)"
   ]
  },
  {
   "cell_type": "markdown",
   "metadata": {},
   "source": [
    "# Prepare the Data"
   ]
  },
  {
   "cell_type": "code",
   "execution_count": 1435,
   "metadata": {},
   "outputs": [],
   "source": [
    "#Data \n",
    "df=pd.read_csv(\"train.csv\")\n",
    "df.head()\n",
    "X=df.drop(['SalePrice','Id'],axis=1)\n",
    "y=df['SalePrice']\n",
    "\n",
    "X_train, X_test, y_train , y_test = train_test_split(X,y,random_state=1)\n",
    "\n",
    "X_train=X_train.reset_index(drop=True)\n",
    "X_test=X_test.reset_index(drop=True)\n",
    "y_train=y_train.reset_index(drop=True)\n",
    "y_test=y_test.reset_index(drop=True)"
   ]
  },
  {
   "cell_type": "code",
   "execution_count": 432,
   "metadata": {
    "scrolled": true
   },
   "outputs": [
    {
     "data": {
      "text/html": [
       "<div>\n",
       "<style scoped>\n",
       "    .dataframe tbody tr th:only-of-type {\n",
       "        vertical-align: middle;\n",
       "    }\n",
       "\n",
       "    .dataframe tbody tr th {\n",
       "        vertical-align: top;\n",
       "    }\n",
       "\n",
       "    .dataframe thead th {\n",
       "        text-align: right;\n",
       "    }\n",
       "</style>\n",
       "<table border=\"1\" class=\"dataframe\">\n",
       "  <thead>\n",
       "    <tr style=\"text-align: right;\">\n",
       "      <th></th>\n",
       "      <th>MSSubClass</th>\n",
       "      <th>MSZoning</th>\n",
       "      <th>LotFrontage</th>\n",
       "      <th>LotArea</th>\n",
       "      <th>Street</th>\n",
       "      <th>Alley</th>\n",
       "      <th>LotShape</th>\n",
       "      <th>LandContour</th>\n",
       "      <th>Utilities</th>\n",
       "      <th>LotConfig</th>\n",
       "      <th>...</th>\n",
       "      <th>ScreenPorch</th>\n",
       "      <th>PoolArea</th>\n",
       "      <th>PoolQC</th>\n",
       "      <th>Fence</th>\n",
       "      <th>MiscFeature</th>\n",
       "      <th>MiscVal</th>\n",
       "      <th>MoSold</th>\n",
       "      <th>YrSold</th>\n",
       "      <th>SaleType</th>\n",
       "      <th>SaleCondition</th>\n",
       "    </tr>\n",
       "  </thead>\n",
       "  <tbody>\n",
       "    <tr>\n",
       "      <th>0</th>\n",
       "      <td>60</td>\n",
       "      <td>RL</td>\n",
       "      <td>65.0</td>\n",
       "      <td>8450</td>\n",
       "      <td>Pave</td>\n",
       "      <td>NaN</td>\n",
       "      <td>Reg</td>\n",
       "      <td>Lvl</td>\n",
       "      <td>AllPub</td>\n",
       "      <td>Inside</td>\n",
       "      <td>...</td>\n",
       "      <td>0</td>\n",
       "      <td>0</td>\n",
       "      <td>NaN</td>\n",
       "      <td>NaN</td>\n",
       "      <td>NaN</td>\n",
       "      <td>0</td>\n",
       "      <td>2</td>\n",
       "      <td>2008</td>\n",
       "      <td>WD</td>\n",
       "      <td>Normal</td>\n",
       "    </tr>\n",
       "    <tr>\n",
       "      <th>1</th>\n",
       "      <td>20</td>\n",
       "      <td>RL</td>\n",
       "      <td>80.0</td>\n",
       "      <td>9600</td>\n",
       "      <td>Pave</td>\n",
       "      <td>NaN</td>\n",
       "      <td>Reg</td>\n",
       "      <td>Lvl</td>\n",
       "      <td>AllPub</td>\n",
       "      <td>FR2</td>\n",
       "      <td>...</td>\n",
       "      <td>0</td>\n",
       "      <td>0</td>\n",
       "      <td>NaN</td>\n",
       "      <td>NaN</td>\n",
       "      <td>NaN</td>\n",
       "      <td>0</td>\n",
       "      <td>5</td>\n",
       "      <td>2007</td>\n",
       "      <td>WD</td>\n",
       "      <td>Normal</td>\n",
       "    </tr>\n",
       "    <tr>\n",
       "      <th>2</th>\n",
       "      <td>60</td>\n",
       "      <td>RL</td>\n",
       "      <td>68.0</td>\n",
       "      <td>11250</td>\n",
       "      <td>Pave</td>\n",
       "      <td>NaN</td>\n",
       "      <td>IR1</td>\n",
       "      <td>Lvl</td>\n",
       "      <td>AllPub</td>\n",
       "      <td>Inside</td>\n",
       "      <td>...</td>\n",
       "      <td>0</td>\n",
       "      <td>0</td>\n",
       "      <td>NaN</td>\n",
       "      <td>NaN</td>\n",
       "      <td>NaN</td>\n",
       "      <td>0</td>\n",
       "      <td>9</td>\n",
       "      <td>2008</td>\n",
       "      <td>WD</td>\n",
       "      <td>Normal</td>\n",
       "    </tr>\n",
       "    <tr>\n",
       "      <th>3</th>\n",
       "      <td>70</td>\n",
       "      <td>RL</td>\n",
       "      <td>60.0</td>\n",
       "      <td>9550</td>\n",
       "      <td>Pave</td>\n",
       "      <td>NaN</td>\n",
       "      <td>IR1</td>\n",
       "      <td>Lvl</td>\n",
       "      <td>AllPub</td>\n",
       "      <td>Corner</td>\n",
       "      <td>...</td>\n",
       "      <td>0</td>\n",
       "      <td>0</td>\n",
       "      <td>NaN</td>\n",
       "      <td>NaN</td>\n",
       "      <td>NaN</td>\n",
       "      <td>0</td>\n",
       "      <td>2</td>\n",
       "      <td>2006</td>\n",
       "      <td>WD</td>\n",
       "      <td>Abnorml</td>\n",
       "    </tr>\n",
       "    <tr>\n",
       "      <th>4</th>\n",
       "      <td>60</td>\n",
       "      <td>RL</td>\n",
       "      <td>84.0</td>\n",
       "      <td>14260</td>\n",
       "      <td>Pave</td>\n",
       "      <td>NaN</td>\n",
       "      <td>IR1</td>\n",
       "      <td>Lvl</td>\n",
       "      <td>AllPub</td>\n",
       "      <td>FR2</td>\n",
       "      <td>...</td>\n",
       "      <td>0</td>\n",
       "      <td>0</td>\n",
       "      <td>NaN</td>\n",
       "      <td>NaN</td>\n",
       "      <td>NaN</td>\n",
       "      <td>0</td>\n",
       "      <td>12</td>\n",
       "      <td>2008</td>\n",
       "      <td>WD</td>\n",
       "      <td>Normal</td>\n",
       "    </tr>\n",
       "  </tbody>\n",
       "</table>\n",
       "<p>5 rows × 79 columns</p>\n",
       "</div>"
      ],
      "text/plain": [
       "   MSSubClass MSZoning  LotFrontage  LotArea Street Alley LotShape  \\\n",
       "0          60       RL         65.0     8450   Pave   NaN      Reg   \n",
       "1          20       RL         80.0     9600   Pave   NaN      Reg   \n",
       "2          60       RL         68.0    11250   Pave   NaN      IR1   \n",
       "3          70       RL         60.0     9550   Pave   NaN      IR1   \n",
       "4          60       RL         84.0    14260   Pave   NaN      IR1   \n",
       "\n",
       "  LandContour Utilities LotConfig  ... ScreenPorch PoolArea PoolQC Fence  \\\n",
       "0         Lvl    AllPub    Inside  ...           0        0    NaN   NaN   \n",
       "1         Lvl    AllPub       FR2  ...           0        0    NaN   NaN   \n",
       "2         Lvl    AllPub    Inside  ...           0        0    NaN   NaN   \n",
       "3         Lvl    AllPub    Corner  ...           0        0    NaN   NaN   \n",
       "4         Lvl    AllPub       FR2  ...           0        0    NaN   NaN   \n",
       "\n",
       "  MiscFeature MiscVal  MoSold  YrSold  SaleType  SaleCondition  \n",
       "0         NaN       0       2    2008        WD         Normal  \n",
       "1         NaN       0       5    2007        WD         Normal  \n",
       "2         NaN       0       9    2008        WD         Normal  \n",
       "3         NaN       0       2    2006        WD        Abnorml  \n",
       "4         NaN       0      12    2008        WD         Normal  \n",
       "\n",
       "[5 rows x 79 columns]"
      ]
     },
     "execution_count": 432,
     "metadata": {},
     "output_type": "execute_result"
    }
   ],
   "source": [
    "X.head()"
   ]
  },
  {
   "cell_type": "markdown",
   "metadata": {},
   "source": [
    "# 1) Baseline model with v_treat and XG_Boost"
   ]
  },
  {
   "cell_type": "markdown",
   "metadata": {},
   "source": [
    "Since the X_train_new created 201 columns, which is a sparsed matrix (have a lot of 0). I have to convert from sparse to dense matrix to avoid messingup XGBoost. \n",
    "\n",
    "Note: Have tried pca(preserve 95% variance) and get 0.20850013615758403. But pca mess up one hot encoding columns.\n"
   ]
  },
  {
   "cell_type": "code",
   "execution_count": 433,
   "metadata": {
    "scrolled": true
   },
   "outputs": [
    {
     "name": "stdout",
     "output_type": "stream",
     "text": [
      "14.48937702178955\n"
     ]
    }
   ],
   "source": [
    "#Processing train set and test set\n",
    "start = time.time()\n",
    "\n",
    "plan = vtreat.NumericOutcomeTreatment()\n",
    "X_train_new = plan.fit_transform(X_train,y_train)\n",
    "X_train_new=X_train_new.values.astype('f4')\n",
    "\n",
    "X_test_new=plan.transform(X_test)\n",
    "X_test_new=X_test_new.values.astype('f4')\n",
    "\n",
    "end = time.time()\n",
    "print(end - start)"
   ]
  },
  {
   "cell_type": "code",
   "execution_count": 235,
   "metadata": {},
   "outputs": [],
   "source": [
    "# pca=PCA(n_components=.95)\n",
    "# X_train_new=pca.fit_transform(X_temp1)\n",
    "\n",
    "# plan.score_frame_"
   ]
  },
  {
   "cell_type": "code",
   "execution_count": 237,
   "metadata": {
    "scrolled": true
   },
   "outputs": [
    {
     "name": "stdout",
     "output_type": "stream",
     "text": [
      "(1095, 203)\n",
      "(1095, 79)\n"
     ]
    }
   ],
   "source": [
    "print(X_train_new.shape)\n",
    "print(X_train.shape)"
   ]
  },
  {
   "cell_type": "markdown",
   "metadata": {},
   "source": [
    "### XGBoost"
   ]
  },
  {
   "cell_type": "code",
   "execution_count": 239,
   "metadata": {
    "scrolled": false
   },
   "outputs": [
    {
     "data": {
      "text/plain": [
       "0.13981006472136315"
      ]
     },
     "execution_count": 239,
     "metadata": {},
     "output_type": "execute_result"
    }
   ],
   "source": [
    "#Set objective ='reg:squarederror' to turn off warning\n",
    "#0.13981006472136315\n",
    "clf = xgb.XGBRegressor(objective ='reg:squarederror',n_estimators=1000,learning_rate=0.05) \n",
    "clf.fit(X_train_new,y_train)\n",
    "\n",
    "y_test_predicts = clf.predict(X_test_new)\n",
    "\n",
    "np.mean(cross_val_score(clf,X_test_new,y_test, scoring=log_rmse_cv,cv=5))"
   ]
  },
  {
   "cell_type": "markdown",
   "metadata": {},
   "source": [
    "### Tuning"
   ]
  },
  {
   "cell_type": "code",
   "execution_count": 240,
   "metadata": {},
   "outputs": [],
   "source": []
  },
  {
   "cell_type": "code",
   "execution_count": 241,
   "metadata": {},
   "outputs": [
    {
     "name": "stdout",
     "output_type": "stream",
     "text": [
      "160.08213090896606\n"
     ]
    }
   ],
   "source": [
    "param_grid={ \"objective\" : ['reg:squarederror'],\n",
    "            \"max_depth\" : [3,4],\n",
    "            \"learning_rate\" :[0.1,0.2],\n",
    "            \"n_estimators\" : [100,300,700],\n",
    "            \"min_child_weight\" :[1,2]\n",
    "}\n",
    "start = time.time()\n",
    "\n",
    "gs_xgb = GridSearchCV(clf, param_grid, cv=5,scoring=log_rmse_cv,return_train_score=True,refit=False)\n",
    "gs_xgb.fit(X_test_new, y_test)\n",
    "\n",
    "end = time.time()\n",
    "print(end-start)"
   ]
  },
  {
   "cell_type": "code",
   "execution_count": 243,
   "metadata": {},
   "outputs": [
    {
     "name": "stdout",
     "output_type": "stream",
     "text": [
      "The min score is: 0.14034943641076741\n"
     ]
    },
    {
     "data": {
      "text/plain": [
       "{'learning_rate': 0.1,\n",
       " 'max_depth': 3,\n",
       " 'min_child_weight': 1,\n",
       " 'n_estimators': 300,\n",
       " 'objective': 'reg:squarederror'}"
      ]
     },
     "execution_count": 243,
     "metadata": {},
     "output_type": "execute_result"
    }
   ],
   "source": [
    "#0.139306894547945\n",
    "# {'learning_rate': 0.1,\n",
    "#  'max_depth': 3,\n",
    "#  'min_child_weight': 1,\n",
    "#  'n_estimators': 300,\n",
    "#  'objective': 'reg:squarederror'}\n",
    "\n",
    "# The min score is: 0.14034943641076741\n",
    "# {'learning_rate': 0.1,\n",
    "#  'max_depth': 3,\n",
    "#  'min_child_weight': 1,\n",
    "#  'n_estimators': 300,\n",
    "#  'objective': 'reg:squarederror'}\n",
    "\n",
    "get_min_score_param(gs_xgb)"
   ]
  },
  {
   "cell_type": "markdown",
   "metadata": {},
   "source": [
    "# 2) Manually cleaning data"
   ]
  },
  {
   "cell_type": "markdown",
   "metadata": {},
   "source": [
    "### Create DataFrame"
   ]
  },
  {
   "cell_type": "code",
   "execution_count": 1527,
   "metadata": {},
   "outputs": [],
   "source": [
    "df_Temp=df.copy()\n",
    "df_Temp=df_Temp.drop([\"Id\",\"SalePrice\"],axis=1)"
   ]
  },
  {
   "cell_type": "code",
   "execution_count": 1528,
   "metadata": {
    "scrolled": true
   },
   "outputs": [
    {
     "data": {
      "text/html": [
       "<div>\n",
       "<style scoped>\n",
       "    .dataframe tbody tr th:only-of-type {\n",
       "        vertical-align: middle;\n",
       "    }\n",
       "\n",
       "    .dataframe tbody tr th {\n",
       "        vertical-align: top;\n",
       "    }\n",
       "\n",
       "    .dataframe thead th {\n",
       "        text-align: right;\n",
       "    }\n",
       "</style>\n",
       "<table border=\"1\" class=\"dataframe\">\n",
       "  <thead>\n",
       "    <tr style=\"text-align: right;\">\n",
       "      <th></th>\n",
       "      <th>MSSubClass</th>\n",
       "      <th>MSZoning</th>\n",
       "      <th>LotFrontage</th>\n",
       "      <th>LotArea</th>\n",
       "      <th>Street</th>\n",
       "      <th>Alley</th>\n",
       "      <th>LotShape</th>\n",
       "      <th>LandContour</th>\n",
       "      <th>Utilities</th>\n",
       "      <th>LotConfig</th>\n",
       "      <th>...</th>\n",
       "      <th>ScreenPorch</th>\n",
       "      <th>PoolArea</th>\n",
       "      <th>PoolQC</th>\n",
       "      <th>Fence</th>\n",
       "      <th>MiscFeature</th>\n",
       "      <th>MiscVal</th>\n",
       "      <th>MoSold</th>\n",
       "      <th>YrSold</th>\n",
       "      <th>SaleType</th>\n",
       "      <th>SaleCondition</th>\n",
       "    </tr>\n",
       "  </thead>\n",
       "  <tbody>\n",
       "    <tr>\n",
       "      <th>0</th>\n",
       "      <td>60</td>\n",
       "      <td>RL</td>\n",
       "      <td>65.0</td>\n",
       "      <td>8450</td>\n",
       "      <td>Pave</td>\n",
       "      <td>NaN</td>\n",
       "      <td>Reg</td>\n",
       "      <td>Lvl</td>\n",
       "      <td>AllPub</td>\n",
       "      <td>Inside</td>\n",
       "      <td>...</td>\n",
       "      <td>0</td>\n",
       "      <td>0</td>\n",
       "      <td>NaN</td>\n",
       "      <td>NaN</td>\n",
       "      <td>NaN</td>\n",
       "      <td>0</td>\n",
       "      <td>2</td>\n",
       "      <td>2008</td>\n",
       "      <td>WD</td>\n",
       "      <td>Normal</td>\n",
       "    </tr>\n",
       "    <tr>\n",
       "      <th>1</th>\n",
       "      <td>20</td>\n",
       "      <td>RL</td>\n",
       "      <td>80.0</td>\n",
       "      <td>9600</td>\n",
       "      <td>Pave</td>\n",
       "      <td>NaN</td>\n",
       "      <td>Reg</td>\n",
       "      <td>Lvl</td>\n",
       "      <td>AllPub</td>\n",
       "      <td>FR2</td>\n",
       "      <td>...</td>\n",
       "      <td>0</td>\n",
       "      <td>0</td>\n",
       "      <td>NaN</td>\n",
       "      <td>NaN</td>\n",
       "      <td>NaN</td>\n",
       "      <td>0</td>\n",
       "      <td>5</td>\n",
       "      <td>2007</td>\n",
       "      <td>WD</td>\n",
       "      <td>Normal</td>\n",
       "    </tr>\n",
       "    <tr>\n",
       "      <th>2</th>\n",
       "      <td>60</td>\n",
       "      <td>RL</td>\n",
       "      <td>68.0</td>\n",
       "      <td>11250</td>\n",
       "      <td>Pave</td>\n",
       "      <td>NaN</td>\n",
       "      <td>IR1</td>\n",
       "      <td>Lvl</td>\n",
       "      <td>AllPub</td>\n",
       "      <td>Inside</td>\n",
       "      <td>...</td>\n",
       "      <td>0</td>\n",
       "      <td>0</td>\n",
       "      <td>NaN</td>\n",
       "      <td>NaN</td>\n",
       "      <td>NaN</td>\n",
       "      <td>0</td>\n",
       "      <td>9</td>\n",
       "      <td>2008</td>\n",
       "      <td>WD</td>\n",
       "      <td>Normal</td>\n",
       "    </tr>\n",
       "    <tr>\n",
       "      <th>3</th>\n",
       "      <td>70</td>\n",
       "      <td>RL</td>\n",
       "      <td>60.0</td>\n",
       "      <td>9550</td>\n",
       "      <td>Pave</td>\n",
       "      <td>NaN</td>\n",
       "      <td>IR1</td>\n",
       "      <td>Lvl</td>\n",
       "      <td>AllPub</td>\n",
       "      <td>Corner</td>\n",
       "      <td>...</td>\n",
       "      <td>0</td>\n",
       "      <td>0</td>\n",
       "      <td>NaN</td>\n",
       "      <td>NaN</td>\n",
       "      <td>NaN</td>\n",
       "      <td>0</td>\n",
       "      <td>2</td>\n",
       "      <td>2006</td>\n",
       "      <td>WD</td>\n",
       "      <td>Abnorml</td>\n",
       "    </tr>\n",
       "    <tr>\n",
       "      <th>4</th>\n",
       "      <td>60</td>\n",
       "      <td>RL</td>\n",
       "      <td>84.0</td>\n",
       "      <td>14260</td>\n",
       "      <td>Pave</td>\n",
       "      <td>NaN</td>\n",
       "      <td>IR1</td>\n",
       "      <td>Lvl</td>\n",
       "      <td>AllPub</td>\n",
       "      <td>FR2</td>\n",
       "      <td>...</td>\n",
       "      <td>0</td>\n",
       "      <td>0</td>\n",
       "      <td>NaN</td>\n",
       "      <td>NaN</td>\n",
       "      <td>NaN</td>\n",
       "      <td>0</td>\n",
       "      <td>12</td>\n",
       "      <td>2008</td>\n",
       "      <td>WD</td>\n",
       "      <td>Normal</td>\n",
       "    </tr>\n",
       "  </tbody>\n",
       "</table>\n",
       "<p>5 rows × 79 columns</p>\n",
       "</div>"
      ],
      "text/plain": [
       "   MSSubClass MSZoning  LotFrontage  LotArea Street Alley LotShape  \\\n",
       "0          60       RL         65.0     8450   Pave   NaN      Reg   \n",
       "1          20       RL         80.0     9600   Pave   NaN      Reg   \n",
       "2          60       RL         68.0    11250   Pave   NaN      IR1   \n",
       "3          70       RL         60.0     9550   Pave   NaN      IR1   \n",
       "4          60       RL         84.0    14260   Pave   NaN      IR1   \n",
       "\n",
       "  LandContour Utilities LotConfig  ... ScreenPorch PoolArea PoolQC Fence  \\\n",
       "0         Lvl    AllPub    Inside  ...           0        0    NaN   NaN   \n",
       "1         Lvl    AllPub       FR2  ...           0        0    NaN   NaN   \n",
       "2         Lvl    AllPub    Inside  ...           0        0    NaN   NaN   \n",
       "3         Lvl    AllPub    Corner  ...           0        0    NaN   NaN   \n",
       "4         Lvl    AllPub       FR2  ...           0        0    NaN   NaN   \n",
       "\n",
       "  MiscFeature MiscVal  MoSold  YrSold  SaleType  SaleCondition  \n",
       "0         NaN       0       2    2008        WD         Normal  \n",
       "1         NaN       0       5    2007        WD         Normal  \n",
       "2         NaN       0       9    2008        WD         Normal  \n",
       "3         NaN       0       2    2006        WD        Abnorml  \n",
       "4         NaN       0      12    2008        WD         Normal  \n",
       "\n",
       "[5 rows x 79 columns]"
      ]
     },
     "execution_count": 1528,
     "metadata": {},
     "output_type": "execute_result"
    }
   ],
   "source": [
    "df_Temp.head()"
   ]
  },
  {
   "cell_type": "markdown",
   "metadata": {},
   "source": [
    "### Fill nan"
   ]
  },
  {
   "cell_type": "code",
   "execution_count": 1529,
   "metadata": {},
   "outputs": [],
   "source": [
    "# Some of the non-numeric predictors are stored as numbers; we convert them into strings \n",
    "df_Temp['MSSubClass'] = df_Temp['MSSubClass'].apply(str)\n",
    "df_Temp['YrSold'] = 2019-df_Temp['YrSold']"
   ]
  },
  {
   "cell_type": "code",
   "execution_count": 1530,
   "metadata": {},
   "outputs": [],
   "source": [
    "dffool=df_Temp.groupby(\"MoSold\").size()/len(df_Temp) #Group it by type, find the size of each type, and divide by total event\n",
    "df_Temp['MoSold']=df_Temp['MoSold'].map(dffool)"
   ]
  },
  {
   "cell_type": "code",
   "execution_count": 1531,
   "metadata": {},
   "outputs": [],
   "source": [
    "#Filling cat columns with mode (norminal)\n",
    "df_Temp['Functional'] = df_Temp['Functional'].fillna('Typ')\n",
    "df_Temp['Electrical'] = df_Temp['Electrical'].fillna(\"SBrkr\") #Standard Circuit Breakers & Romex (1335 values)\n",
    "df_Temp['KitchenQual'] = df_Temp['KitchenQual'].fillna(\"TA\") #The most occurence (735) also average\n",
    "df_Temp['Exterior1st'] = df_Temp['Exterior1st'].fillna('VinylSd') #515 average type\n",
    "df_Temp['Exterior2nd'] = df_Temp['Exterior2nd'].fillna('VinylSd') #504 average type\n",
    "df_Temp['SaleType'] = df_Temp['SaleType'].fillna(\"WD\") #1267\n",
    "df_Temp['MSZoning']=df_Temp['SaleType'].fillna(\"RL\") #1151"
   ]
  },
  {
   "cell_type": "code",
   "execution_count": 1532,
   "metadata": {},
   "outputs": [],
   "source": [
    "df_Temp[\"PoolQC\"] = df_Temp[\"PoolQC\"].fillna(\"None\")"
   ]
  },
  {
   "cell_type": "code",
   "execution_count": 1533,
   "metadata": {},
   "outputs": [],
   "source": [
    "#These are feature that have many type\n",
    "for col in ['GarageYrBlt', 'GarageArea', 'GarageCars']:\n",
    "    df_Temp[col] = df_Temp[col].fillna(0)\n",
    "for col in ['GarageType', 'GarageFinish', 'GarageQual', 'GarageCond']:\n",
    "    df_Temp[col] = df_Temp[col].fillna('None')\n",
    "for col in ('BsmtQual', 'BsmtCond', 'BsmtExposure', 'BsmtFinType1', 'BsmtFinType2'):\n",
    "    df_Temp[col] = df_Temp[col].fillna('None')"
   ]
  },
  {
   "cell_type": "code",
   "execution_count": 1534,
   "metadata": {},
   "outputs": [],
   "source": [
    "#Some domain knowledge here. \n",
    "df_Temp['LotFrontage'] = df_Temp.groupby('Neighborhood')['LotFrontage'].transform(lambda x: x.fillna(x.median()))"
   ]
  },
  {
   "cell_type": "code",
   "execution_count": 1535,
   "metadata": {},
   "outputs": [],
   "source": [
    "#Fill the rest of the na value by None\n",
    "cat_cols=cat_object(df_Temp)\n",
    "df_Temp.update(df_Temp[cat_cols].fillna('None'))"
   ]
  },
  {
   "cell_type": "code",
   "execution_count": 1536,
   "metadata": {
    "scrolled": true
   },
   "outputs": [
    {
     "data": {
      "text/plain": [
       "<matplotlib.axes._subplots.AxesSubplot at 0x1a25189320>"
      ]
     },
     "execution_count": 1536,
     "metadata": {},
     "output_type": "execute_result"
    },
    {
     "data": {
      "image/png": "[encoded data removed]",
      "text/plain": [
       "<Figure size 432x288 with 1 Axes>"
      ]
     },
     "metadata": {
      "needs_background": "light"
     },
     "output_type": "display_data"
    }
   ],
   "source": [
    "#Fill MasVnrArea by its mode\n",
    "df_Temp[\"MasVnrArea\"]=df_Temp[\"MasVnrArea\"].fillna(0)\n",
    "df_Temp[\"MasVnrArea\"].hist(bins=100)"
   ]
  },
  {
   "cell_type": "code",
   "execution_count": 1537,
   "metadata": {
    "scrolled": true
   },
   "outputs": [
    {
     "name": "stdout",
     "output_type": "stream",
     "text": [
      "0\n"
     ]
    }
   ],
   "source": [
    "#There is no more nan\n",
    "nan_(df_Temp)"
   ]
  },
  {
   "cell_type": "markdown",
   "metadata": {},
   "source": [
    "### Check normal distributivity"
   ]
  },
  {
   "cell_type": "markdown",
   "metadata": {},
   "source": [
    "**Skewness** \n",
    "Dealing with extreme long/short tails on both sides\n",
    "* $(-0.5,0.5)$: symmetrical\n",
    "* $(-1,-0.5)$ : moderatedly negative skew\n",
    "* $(0.5,1)$: moderatedly positive skew\n",
    "* More or less than that: highly skew\n",
    "\n"
   ]
  },
  {
   "cell_type": "code",
   "execution_count": 1538,
   "metadata": {},
   "outputs": [],
   "source": [
    "num_cols=list(set(df_Temp.columns)-set(cat_cols))\n",
    "\n",
    "skewness_num_feature = df_Temp[num_cols].apply(lambda x: skew(x)).sort_values(ascending=False)"
   ]
  },
  {
   "cell_type": "code",
   "execution_count": 1539,
   "metadata": {},
   "outputs": [],
   "source": [
    "high_skew = skewness_num_feature[skewness_num_feature > 0.5]\n",
    "skew_index = high_skew.index\n",
    "\n",
    "for i in skew_index:\n",
    "    df_Temp[i] = boxcox1p(df_Temp[i], boxcox_normmax(df_Temp[i] + 1))"
   ]
  },
  {
   "cell_type": "markdown",
   "metadata": {},
   "source": [
    "**Kurtosis**\n",
    "Dealing with extreme long/short tails on both sides\n",
    "\n",
    "* Mesokurtic(kurtosis~3): Good. SND has kurtosis -3\n",
    "* Platykurtic (kurtosis<3): short tails\n",
    "* Leptokurtic (kurtosis>3): long tails"
   ]
  },
  {
   "cell_type": "code",
   "execution_count": 1540,
   "metadata": {},
   "outputs": [],
   "source": [
    "krt_num_feature = df_Temp[num_cols].apply(lambda x: kurtosis(x)).sort_values(ascending=False)"
   ]
  },
  {
   "cell_type": "code",
   "execution_count": 1541,
   "metadata": {},
   "outputs": [],
   "source": [
    "#Not sure how to deal with these yet"
   ]
  },
  {
   "cell_type": "code",
   "execution_count": 1542,
   "metadata": {},
   "outputs": [
    {
     "name": "stdout",
     "output_type": "stream",
     "text": [
      "0\n"
     ]
    }
   ],
   "source": [
    "nan_(df_Temp)"
   ]
  },
  {
   "cell_type": "markdown",
   "metadata": {},
   "source": [
    "### Some analysis"
   ]
  },
  {
   "cell_type": "markdown",
   "metadata": {},
   "source": [
    "Ord= ExterQual,ExterCond, BsmtQual, BsmtCond, BsmtExposure,BsmtFinType1,BsmtFinType2,KitchenQual,FireplaceQu, GarageType,GarageFinish,GarageQual,GarageCond, PavedDrive, MSZoning, Fence\n",
    "\n",
    "\n",
    "Combine: \n",
    "Total_sqr_footage=BsmtFinSF1+BsmtFinSF2+1stFlrSF+2ndFlrSF\n",
    "Total_Bathrooms=FullBath+0.5*HalfBath+ BsmtFullBath+0.5*BsmtHalfBath\n",
    "Total_porch_sf=OpenPorchSF+3SsnPorch+EnclosedPorch+ScreenPorch+WoodDeckSF\n",
    "YrBltAndRemod=YearBuilt+YearRemodAdd (since yearremod same as construction date if no remodeling or additions)\n",
    "Overallscore=OverallQual+OverallCond\n",
    "\n",
    "1,0- on and hot encode\n",
    "\n",
    "Maybe 2ndFlrSF (Since there are 829/1460 houses has 0 2nd floor)\n",
    "MiscFeature (Elevator, Gar2, Othr, Shed, TenC)\n",
    "\n",
    "Remove:\n",
    "Utilities (since 1459 all pub and 1 NoSeWa)\n",
    "Street (Since 1454 pave and 9 Grvl)\n",
    "PoolQC (Since there are only 7 houses have pool)\n",
    "PoolArea (Since the unique value range from 512 to 738 and 1453/1459 has no pool )\n",
    "Alley (50 Grvl, 41 pavement)\n",
    "\n",
    "Others: \n",
    "Throw to vtreat"
   ]
  },
  {
   "cell_type": "markdown",
   "metadata": {},
   "source": []
  },
  {
   "cell_type": "code",
   "execution_count": 1463,
   "metadata": {},
   "outputs": [],
   "source": [
    "#I did not map NA since Vtreat will help me do it\n",
    "#BsmtExposure,BsmtFinType1,BsmtFinType2,KitchenQual,FireplaceQu, \n",
    "#GarageFinish,GarageQual,GarageCond, PavedDrive, Fence\n",
    "\n",
    "grade_map={\"None\":0,\"Po\":1, \"Fa\":2,\"TA\":3,\"Gd\":4,\"Ex\":5}\n",
    "cols1=[\"ExterQual\",\"ExterCond\", \"BsmtQual\", \"BsmtCond\", \"HeatingQC\", \"KitchenQual\", \"FireplaceQu\", \"GarageQual\", \"GarageCond\"]\n",
    "for i in cols1:\n",
    "    df_Temp[i]=df_Temp[i].map(grade_map)\n",
    "\n",
    "exposure_map={\"Gd\":4,\"Av\":3,\"Mn\":2, \"No\":0, \"NA\":0,\"None\":0}\n",
    "df_Temp[\"BsmtExposure\"]=df_Temp[\"BsmtExposure\"].map(exposure_map)\n",
    "\n",
    "bsmt_map={\"GLQ\":6,\"ALQ\":5,\"BLQ\":4,\"Rec\":3,\"LwQ\":2,\"Unf\":1, \"NA\":0,\"None\":0}\n",
    "cols2=[\"BsmtFinType1\"]\n",
    "for i in cols2:\n",
    "    df_Temp[i]=df_Temp[i].map(bsmt_map)\n",
    "\n",
    "garage_map={\"Fin\":3,\"RFn\":2,\"Unf\":1,\"NA\":0,\"None\":0}\n",
    "df_Temp[\"GarageFinish\"]=df_Temp[\"GarageFinish\"].map(garage_map)\n",
    "\n",
    "\n",
    "pavement_map={\"Y\":2,\"P\":1,\"N\":0,\"None\":0}\n",
    "df_Temp[\"PavedDrive\"]=df_Temp[\"PavedDrive\"].map(pavement_map)\n",
    "\n",
    "cols_orinal=cols1+[\"BsmtExposure\"]+cols2+[\"GarageFinish\"]+[\"PavedDrive\"]\n"
   ]
  },
  {
   "cell_type": "code",
   "execution_count": 1464,
   "metadata": {},
   "outputs": [
    {
     "name": "stdout",
     "output_type": "stream",
     "text": [
      "0\n",
      "None\n"
     ]
    }
   ],
   "source": [
    "print(nan_(df_Temp))"
   ]
  },
  {
   "cell_type": "markdown",
   "metadata": {},
   "source": [
    "### Combine"
   ]
  },
  {
   "cell_type": "code",
   "execution_count": 1465,
   "metadata": {},
   "outputs": [],
   "source": [
    "df_Temp['YrBltAndRemod']=df_Temp['YearBuilt']+df_Temp['YearRemodAdd']\n",
    "df_Temp['TotalSF']=df_Temp['TotalBsmtSF'] + df_Temp['1stFlrSF'] + df_Temp['2ndFlrSF']\n",
    "\n",
    "df_Temp['Total_sqr_footage'] = (df_Temp['BsmtFinSF1'] + df_Temp['BsmtFinSF2'] +\n",
    "                                 df_Temp['1stFlrSF'] + df_Temp['2ndFlrSF'])\n",
    "\n",
    "df_Temp['Total_Bathrooms'] = (df_Temp['FullBath'] + (0.5 * df_Temp['HalfBath']) +\n",
    "                               df_Temp['BsmtFullBath'] + (0.5 * df_Temp['BsmtHalfBath']))\n",
    "\n",
    "df_Temp['Total_porch_sf'] = (df_Temp['OpenPorchSF'] + df_Temp['3SsnPorch'] +\n",
    "                              df_Temp['EnclosedPorch'] + df_Temp['ScreenPorch'] +\n",
    "                              df_Temp['WoodDeckSF'])"
   ]
  },
  {
   "cell_type": "code",
   "execution_count": 1466,
   "metadata": {
    "scrolled": true
   },
   "outputs": [
    {
     "name": "stdout",
     "output_type": "stream",
     "text": [
      "0\n",
      "None\n"
     ]
    }
   ],
   "source": [
    "print(nan_(df_Temp))"
   ]
  },
  {
   "cell_type": "markdown",
   "metadata": {},
   "source": [
    "### Simplify feature"
   ]
  },
  {
   "cell_type": "code",
   "execution_count": 1467,
   "metadata": {},
   "outputs": [],
   "source": [
    "df_Temp['haspool'] = df_Temp['PoolArea'].apply(lambda x: 1 if x > 0 else 0)\n",
    "df_Temp['has2ndfloor'] = df_Temp['2ndFlrSF'].apply(lambda x: 1 if x > 0 else 0)\n",
    "df_Temp['hasgarage'] = df_Temp['GarageArea'].apply(lambda x: 1 if x > 0 else 0)\n",
    "df_Temp['hasbsmt'] = df_Temp['TotalBsmtSF'].apply(lambda x: 1 if x > 0 else 0)\n",
    "df_Temp['hasfireplace'] = df_Temp['Fireplaces'].apply(lambda x: 1 if x > 0 else 0)"
   ]
  },
  {
   "cell_type": "markdown",
   "metadata": {},
   "source": [
    "### Remove Overfit"
   ]
  },
  {
   "cell_type": "code",
   "execution_count": 1468,
   "metadata": {},
   "outputs": [
    {
     "data": {
      "text/plain": [
       "['Street', 'Utilities', 'PoolArea', 'PoolQC', 'haspool']"
      ]
     },
     "execution_count": 1468,
     "metadata": {},
     "output_type": "execute_result"
    }
   ],
   "source": [
    "#Remove everything with one category more than 99.5 percent\n",
    "overfit = []\n",
    "for col in df_Temp.columns:\n",
    "    most_counts = df_Temp[col].value_counts()\n",
    "    most_counts_value = most_counts.iloc[0]\n",
    "    if most_counts_value / len(df_Temp) * 100 > 99.5:\n",
    "        overfit.append(col)\n",
    "\n",
    "overfit = list(overfit)\n",
    "overfit"
   ]
  },
  {
   "cell_type": "code",
   "execution_count": 1469,
   "metadata": {},
   "outputs": [],
   "source": [
    "df_Temp = df_Temp.drop(overfit, axis=1)"
   ]
  },
  {
   "cell_type": "markdown",
   "metadata": {},
   "source": [
    "### Throw everything in vtreat"
   ]
  },
  {
   "cell_type": "code",
   "execution_count": 1500,
   "metadata": {},
   "outputs": [
    {
     "name": "stdout",
     "output_type": "stream",
     "text": [
      "3.5813968181610107\n"
     ]
    }
   ],
   "source": [
    "#Processing train set and test set\n",
    "start = time.time()\n",
    "\n",
    "plan = vtreat.NumericOutcomeTreatment()\n",
    "X_temp = plan.fit_transform(df_Temp,df[\"SalePrice\"])\n",
    "\n",
    "end = time.time()\n",
    "print(end - start)"
   ]
  },
  {
   "cell_type": "code",
   "execution_count": 1502,
   "metadata": {},
   "outputs": [
    {
     "data": {
      "text/plain": [
       "(1460, 268)"
      ]
     },
     "execution_count": 1502,
     "metadata": {},
     "output_type": "execute_result"
    }
   ],
   "source": [
    "df_Temp.shape"
   ]
  },
  {
   "cell_type": "code",
   "execution_count": 1503,
   "metadata": {},
   "outputs": [],
   "source": [
    "# leftover_cat=cat_object(df_Temp)\n",
    "# num_cols=list(set(df_Temp.columns)-set(leftover_cat))\n",
    "\n",
    "# dffool=pd.get_dummies(df_Temp[leftover_cat])\n",
    "# df_Temp=pd.concat([df_Temp[num_cols],dffool],axis=1)"
   ]
  },
  {
   "cell_type": "code",
   "execution_count": 1504,
   "metadata": {
    "scrolled": true
   },
   "outputs": [
    {
     "data": {
      "text/plain": [
       "(1460, 268)"
      ]
     },
     "execution_count": 1504,
     "metadata": {},
     "output_type": "execute_result"
    }
   ],
   "source": [
    "df_Temp.shape"
   ]
  },
  {
   "cell_type": "markdown",
   "metadata": {},
   "source": [
    "### Normalize"
   ]
  },
  {
   "cell_type": "code",
   "execution_count": 1505,
   "metadata": {},
   "outputs": [
    {
     "data": {
      "text/plain": [
       "(1460, 268)"
      ]
     },
     "execution_count": 1505,
     "metadata": {},
     "output_type": "execute_result"
    }
   ],
   "source": [
    "scaler = MinMaxScaler()\n",
    "scaler.fit(df_Temp)\n",
    "dffool=scaler.transform(df_Temp)\n",
    "df_final=pd.DataFrame(dffool,columns=df_Temp.columns)\n",
    "df_final.shape"
   ]
  },
  {
   "cell_type": "code",
   "execution_count": 1506,
   "metadata": {},
   "outputs": [
    {
     "data": {
      "text/html": [
       "<div>\n",
       "<style scoped>\n",
       "    .dataframe tbody tr th:only-of-type {\n",
       "        vertical-align: middle;\n",
       "    }\n",
       "\n",
       "    .dataframe tbody tr th {\n",
       "        vertical-align: top;\n",
       "    }\n",
       "\n",
       "    .dataframe thead th {\n",
       "        text-align: right;\n",
       "    }\n",
       "</style>\n",
       "<table border=\"1\" class=\"dataframe\">\n",
       "  <thead>\n",
       "    <tr style=\"text-align: right;\">\n",
       "      <th></th>\n",
       "      <th>FireplaceQu</th>\n",
       "      <th>TotalBsmtSF</th>\n",
       "      <th>ScreenPorch</th>\n",
       "      <th>GarageYrBlt</th>\n",
       "      <th>GarageArea</th>\n",
       "      <th>YearBuilt</th>\n",
       "      <th>GarageFinish</th>\n",
       "      <th>OverallQual</th>\n",
       "      <th>KitchenAbvGr</th>\n",
       "      <th>WoodDeckSF</th>\n",
       "      <th>...</th>\n",
       "      <th>SaleType_ConLw</th>\n",
       "      <th>SaleType_New</th>\n",
       "      <th>SaleType_Oth</th>\n",
       "      <th>SaleType_WD</th>\n",
       "      <th>SaleCondition_Abnorml</th>\n",
       "      <th>SaleCondition_AdjLand</th>\n",
       "      <th>SaleCondition_Alloca</th>\n",
       "      <th>SaleCondition_Family</th>\n",
       "      <th>SaleCondition_Normal</th>\n",
       "      <th>SaleCondition_Partial</th>\n",
       "    </tr>\n",
       "  </thead>\n",
       "  <tbody>\n",
       "    <tr>\n",
       "      <th>0</th>\n",
       "      <td>0.0</td>\n",
       "      <td>0.213651</td>\n",
       "      <td>0.0</td>\n",
       "      <td>0.996517</td>\n",
       "      <td>0.386460</td>\n",
       "      <td>0.949275</td>\n",
       "      <td>0.666667</td>\n",
       "      <td>0.666667</td>\n",
       "      <td>0.482938</td>\n",
       "      <td>0.000000</td>\n",
       "      <td>...</td>\n",
       "      <td>0.0</td>\n",
       "      <td>0.0</td>\n",
       "      <td>0.0</td>\n",
       "      <td>1.0</td>\n",
       "      <td>0.0</td>\n",
       "      <td>0.0</td>\n",
       "      <td>0.0</td>\n",
       "      <td>0.0</td>\n",
       "      <td>1.0</td>\n",
       "      <td>0.0</td>\n",
       "    </tr>\n",
       "    <tr>\n",
       "      <th>1</th>\n",
       "      <td>0.6</td>\n",
       "      <td>0.289913</td>\n",
       "      <td>0.0</td>\n",
       "      <td>0.983085</td>\n",
       "      <td>0.324401</td>\n",
       "      <td>0.753623</td>\n",
       "      <td>0.666667</td>\n",
       "      <td>0.555556</td>\n",
       "      <td>0.482938</td>\n",
       "      <td>0.495379</td>\n",
       "      <td>...</td>\n",
       "      <td>0.0</td>\n",
       "      <td>0.0</td>\n",
       "      <td>0.0</td>\n",
       "      <td>1.0</td>\n",
       "      <td>0.0</td>\n",
       "      <td>0.0</td>\n",
       "      <td>0.0</td>\n",
       "      <td>0.0</td>\n",
       "      <td>1.0</td>\n",
       "      <td>0.0</td>\n",
       "    </tr>\n",
       "    <tr>\n",
       "      <th>2</th>\n",
       "      <td>0.6</td>\n",
       "      <td>0.226119</td>\n",
       "      <td>0.0</td>\n",
       "      <td>0.995522</td>\n",
       "      <td>0.428773</td>\n",
       "      <td>0.934783</td>\n",
       "      <td>0.666667</td>\n",
       "      <td>0.666667</td>\n",
       "      <td>0.482938</td>\n",
       "      <td>0.000000</td>\n",
       "      <td>...</td>\n",
       "      <td>0.0</td>\n",
       "      <td>0.0</td>\n",
       "      <td>0.0</td>\n",
       "      <td>1.0</td>\n",
       "      <td>0.0</td>\n",
       "      <td>0.0</td>\n",
       "      <td>0.0</td>\n",
       "      <td>0.0</td>\n",
       "      <td>1.0</td>\n",
       "      <td>0.0</td>\n",
       "    </tr>\n",
       "    <tr>\n",
       "      <th>3</th>\n",
       "      <td>0.8</td>\n",
       "      <td>0.193755</td>\n",
       "      <td>0.0</td>\n",
       "      <td>0.994030</td>\n",
       "      <td>0.452750</td>\n",
       "      <td>0.311594</td>\n",
       "      <td>0.333333</td>\n",
       "      <td>0.666667</td>\n",
       "      <td>0.482938</td>\n",
       "      <td>0.000000</td>\n",
       "      <td>...</td>\n",
       "      <td>0.0</td>\n",
       "      <td>0.0</td>\n",
       "      <td>0.0</td>\n",
       "      <td>1.0</td>\n",
       "      <td>1.0</td>\n",
       "      <td>0.0</td>\n",
       "      <td>0.0</td>\n",
       "      <td>0.0</td>\n",
       "      <td>0.0</td>\n",
       "      <td>0.0</td>\n",
       "    </tr>\n",
       "    <tr>\n",
       "      <th>4</th>\n",
       "      <td>0.6</td>\n",
       "      <td>0.268568</td>\n",
       "      <td>0.0</td>\n",
       "      <td>0.995025</td>\n",
       "      <td>0.589563</td>\n",
       "      <td>0.927536</td>\n",
       "      <td>0.666667</td>\n",
       "      <td>0.777778</td>\n",
       "      <td>0.482938</td>\n",
       "      <td>0.368892</td>\n",
       "      <td>...</td>\n",
       "      <td>0.0</td>\n",
       "      <td>0.0</td>\n",
       "      <td>0.0</td>\n",
       "      <td>1.0</td>\n",
       "      <td>0.0</td>\n",
       "      <td>0.0</td>\n",
       "      <td>0.0</td>\n",
       "      <td>0.0</td>\n",
       "      <td>1.0</td>\n",
       "      <td>0.0</td>\n",
       "    </tr>\n",
       "  </tbody>\n",
       "</table>\n",
       "<p>5 rows × 268 columns</p>\n",
       "</div>"
      ],
      "text/plain": [
       "   FireplaceQu  TotalBsmtSF  ScreenPorch  GarageYrBlt  GarageArea  YearBuilt  \\\n",
       "0          0.0     0.213651          0.0     0.996517    0.386460   0.949275   \n",
       "1          0.6     0.289913          0.0     0.983085    0.324401   0.753623   \n",
       "2          0.6     0.226119          0.0     0.995522    0.428773   0.934783   \n",
       "3          0.8     0.193755          0.0     0.994030    0.452750   0.311594   \n",
       "4          0.6     0.268568          0.0     0.995025    0.589563   0.927536   \n",
       "\n",
       "   GarageFinish  OverallQual  KitchenAbvGr  WoodDeckSF  ...  SaleType_ConLw  \\\n",
       "0      0.666667     0.666667      0.482938    0.000000  ...             0.0   \n",
       "1      0.666667     0.555556      0.482938    0.495379  ...             0.0   \n",
       "2      0.666667     0.666667      0.482938    0.000000  ...             0.0   \n",
       "3      0.333333     0.666667      0.482938    0.000000  ...             0.0   \n",
       "4      0.666667     0.777778      0.482938    0.368892  ...             0.0   \n",
       "\n",
       "   SaleType_New  SaleType_Oth  SaleType_WD  SaleCondition_Abnorml  \\\n",
       "0           0.0           0.0          1.0                    0.0   \n",
       "1           0.0           0.0          1.0                    0.0   \n",
       "2           0.0           0.0          1.0                    0.0   \n",
       "3           0.0           0.0          1.0                    1.0   \n",
       "4           0.0           0.0          1.0                    0.0   \n",
       "\n",
       "   SaleCondition_AdjLand  SaleCondition_Alloca  SaleCondition_Family  \\\n",
       "0                    0.0                   0.0                   0.0   \n",
       "1                    0.0                   0.0                   0.0   \n",
       "2                    0.0                   0.0                   0.0   \n",
       "3                    0.0                   0.0                   0.0   \n",
       "4                    0.0                   0.0                   0.0   \n",
       "\n",
       "   SaleCondition_Normal  SaleCondition_Partial  \n",
       "0                   1.0                    0.0  \n",
       "1                   1.0                    0.0  \n",
       "2                   1.0                    0.0  \n",
       "3                   0.0                    0.0  \n",
       "4                   1.0                    0.0  \n",
       "\n",
       "[5 rows x 268 columns]"
      ]
     },
     "execution_count": 1506,
     "metadata": {},
     "output_type": "execute_result"
    }
   ],
   "source": [
    "df_final.head()"
   ]
  },
  {
   "cell_type": "markdown",
   "metadata": {},
   "source": [
    "### Prepare data"
   ]
  },
  {
   "cell_type": "code",
   "execution_count": 1507,
   "metadata": {},
   "outputs": [],
   "source": [
    "X=df_final\n",
    "y=df.SalePrice\n",
    "X_train, X_test, y_train , y_test = train_test_split(X,y,random_state=1)\n",
    "\n",
    "X_train=X_train.reset_index(drop=True)\n",
    "X_test=X_test.reset_index(drop=True)\n",
    "y_train=y_train.reset_index(drop=True)\n",
    "y_test=y_test.reset_index(drop=True)"
   ]
  },
  {
   "cell_type": "markdown",
   "metadata": {},
   "source": [
    "### Prediction"
   ]
  },
  {
   "cell_type": "code",
   "execution_count": 1508,
   "metadata": {},
   "outputs": [],
   "source": [
    "X_train=X_train.values.astype('f4')\n",
    "X_test=X_test.values.astype('f4')"
   ]
  },
  {
   "cell_type": "code",
   "execution_count": 1513,
   "metadata": {},
   "outputs": [
    {
     "data": {
      "text/plain": [
       "0.1513712023205992"
      ]
     },
     "execution_count": 1513,
     "metadata": {},
     "output_type": "execute_result"
    }
   ],
   "source": [
    "clf = xgb.XGBRegressor(objective ='reg:squarederror',n_estimators=1000,learning_rate=0.05,max_depth=3,min_child_weight=1) \n",
    "clf.fit(X_train,y_train)\n",
    "\n",
    "np.mean(cross_val_score(clf,X_test, y_test, scoring=log_rmse_cv,cv=3))"
   ]
  },
  {
   "cell_type": "code",
   "execution_count": 1307,
   "metadata": {},
   "outputs": [
    {
     "name": "stdout",
     "output_type": "stream",
     "text": [
      "126.15706419944763\n"
     ]
    }
   ],
   "source": [
    "start = time.time()\n",
    "\n",
    "gs_xgb = GridSearchCV(clf, param_grid, cv=5,scoring=log_rmse_cv,return_train_score=True,refit=False)\n",
    "gs_xgb.fit(X_test_new, y_test)\n",
    "\n",
    "end = time.time()\n",
    "print(end-start)"
   ]
  },
  {
   "cell_type": "code",
   "execution_count": 1308,
   "metadata": {},
   "outputs": [
    {
     "name": "stdout",
     "output_type": "stream",
     "text": [
      "The min score is: 0.14255732994188786\n"
     ]
    },
    {
     "data": {
      "text/plain": [
       "{'learning_rate': 0.1,\n",
       " 'max_depth': 3,\n",
       " 'min_child_weight': 1,\n",
       " 'n_estimators': 300,\n",
       " 'objective': 'reg:squarederror'}"
      ]
     },
     "execution_count": 1308,
     "metadata": {},
     "output_type": "execute_result"
    }
   ],
   "source": [
    "get_min_score_param(gs_xgb)"
   ]
  },
  {
   "cell_type": "code",
   "execution_count": null,
   "metadata": {},
   "outputs": [],
   "source": [
    "#0.1364023282041639\n",
    "#n_estimators=1000,learning_rate=0.05,max_depth=3,min_child_weight=1"
   ]
  },
  {
   "cell_type": "code",
   "execution_count": 1546,
   "metadata": {},
   "outputs": [],
   "source": [
    "def Stefan(n):\n",
    "    combinations = (map(operator.sub, cuts + (n,), (0,) + cuts)\n",
    "                    for cuts in itertools.combinations_with_replacement(range(n+1), 3))\n",
    "    return [c for c in combinations if max(c) < n]"
   ]
  },
  {
   "cell_type": "code",
   "execution_count": 1559,
   "metadata": {},
   "outputs": [],
   "source": [
    "def drum(n):\n",
    "    out = []\n",
    "    for a in range(n):\n",
    "        for b in range(n):\n",
    "            for c in range(n):\n",
    "                for d in range(n):\n",
    "                    for e in range(n):\n",
    "                        for f in range(n):\n",
    "                            if (a + b + c + d+e+f== n) & (a*b*c*d*e*f)!=0:\n",
    "                                out.append((a, b, c, d, e, f))\n",
    "    return out"
   ]
  },
  {
   "cell_type": "code",
   "execution_count": null,
   "metadata": {},
   "outputs": [],
   "source": [
    "drum(50)"
   ]
  },
  {
   "cell_type": "code",
   "execution_count": 1550,
   "metadata": {},
   "outputs": [],
   "source": [
    "a=Stefan(5)"
   ]
  },
  {
   "cell_type": "code",
   "execution_count": 1553,
   "metadata": {},
   "outputs": [
    {
     "data": {
      "text/plain": [
       "map"
      ]
     },
     "execution_count": 1553,
     "metadata": {},
     "output_type": "execute_result"
    }
   ],
   "source": [
    "type(a[1])"
   ]
  },
  {
   "cell_type": "code",
   "execution_count": null,
   "metadata": {},
   "outputs": [],
   "source": [
    "y_test_predicts"
   ]
  },
  {
   "cell_type": "code",
   "execution_count": 1310,
   "metadata": {},
   "outputs": [
    {
     "data": {
      "text/plain": [
       "(1460, 283)"
      ]
     },
     "execution_count": 1310,
     "metadata": {},
     "output_type": "execute_result"
    }
   ],
   "source": [
    "pd.get_dummies(df_Temp).reset_index(drop=True).shape"
   ]
  }
 ],
 "metadata": {
  "kernelspec": {
   "display_name": "Python 3",
   "language": "python",
   "name": "python3"
  },
  "language_info": {
   "codemirror_mode": {
    "name": "ipython",
    "version": 3
   },
   "file_extension": ".py",
   "mimetype": "text/x-python",
   "name": "python",
   "nbconvert_exporter": "python",
   "pygments_lexer": "ipython3",
   "version": "3.7.3"
  }
 },
 "nbformat": 4,
 "nbformat_minor": 2
}
